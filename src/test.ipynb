{
 "cells": [
  {
   "cell_type": "code",
   "execution_count": 4,
   "metadata": {},
   "outputs": [
    {
     "name": "stdout",
     "output_type": "stream",
     "text": [
      "(2, 3, 4, 5, 6, 175)\n"
     ]
    }
   ],
   "source": [
    "# from scipy.optimize import linprog\n",
    "# c = [-1, 4]\n",
    "# A = [[-3, 1], [1, 2]]\n",
    "# b = [6, 4]\n",
    "# x0_bounds = (None, None)\n",
    "# x1_bounds = (-3, None)\n",
    "# res = linprog(c, A_ub=A, b_ub=b, bounds=[x0_bounds, x1_bounds],method=\"revised simplex\")\n",
    "# res\n",
    "\n",
    "s = (2,3,4,5,6)\n",
    "print(s+(175,))"
   ]
  }
 ],
 "metadata": {
  "kernelspec": {
   "display_name": "Python 3.10.2 64-bit",
   "language": "python",
   "name": "python3"
  },
  "language_info": {
   "codemirror_mode": {
    "name": "ipython",
    "version": 3
   },
   "file_extension": ".py",
   "mimetype": "text/x-python",
   "name": "python",
   "nbconvert_exporter": "python",
   "pygments_lexer": "ipython3",
   "version": "3.10.2"
  },
  "orig_nbformat": 4,
  "vscode": {
   "interpreter": {
    "hash": "7e1998ff7f8aa20ada591c520b972326324e5ea05489af9e422744c7c09f6dad"
   }
  }
 },
 "nbformat": 4,
 "nbformat_minor": 2
}
